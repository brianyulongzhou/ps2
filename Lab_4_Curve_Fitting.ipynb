{
  "nbformat": 4,
  "nbformat_minor": 0,
  "metadata": {
    "colab": {
      "provenance": [],
      "collapsed_sections": [],
      "include_colab_link": true
    },
    "kernelspec": {
      "name": "python3",
      "display_name": "Python 3"
    },
    "language_info": {
      "name": "python"
    }
  },
  "cells": [
    {
      "cell_type": "markdown",
      "metadata": {
        "id": "view-in-github",
        "colab_type": "text"
      },
      "source": [
        "<a href=\"https://colab.research.google.com/github/brianyulongzhou/ps2/blob/main/Lab_4_Curve_Fitting.ipynb\" target=\"_parent\"><img src=\"https://colab.research.google.com/assets/colab-badge.svg\" alt=\"Open In Colab\"/></a>"
      ]
    },
    {
      "cell_type": "markdown",
      "source": [
        "# Introduction\n",
        "\n",
        "Go to `File` $\\rightarrow$ `Save a copy in Drive` to save an editable version of this document in your own Google Drive."
      ],
      "metadata": {
        "id": "BryvDdLXfM1H"
      }
    },
    {
      "cell_type": "markdown",
      "source": [
        "# Curve Fitting\n",
        "\n",
        "\n",
        "In the previous lab, we calculated the horizontal distance $L$ a ball would travel if it were launched from a height $h$ off a ramp. We derived a physical model for where the ball will land, and then calculated a prediction. We then compared this prediction to a measurement of where the ball did land: based on this comparision, we determined if we should accept or revise our model.\n",
        "\n",
        "In this case, all of our decisions about our model were made on the basis of a single data point. It would probably be a better test of our model if we measured $L$ for several vlaues of $h$, and then made a decision about our model based on *all these measurements*. In this lab, we will learn how to do this using a technique called **curve fitting**."
      ],
      "metadata": {
        "id": "XrGz0b2UMn36"
      }
    },
    {
      "cell_type": "markdown",
      "source": [
        "# Define helper functions\n",
        "\n",
        "Run the below cell to define a few functions that you'll use later:\n",
        "\n",
        "Here is a list of the functions you will use in labs and how to use them:\n",
        "\n",
        "*   `mycurvefit(function, XX, YY, UNCERT)` returns: the best-fit values and uncertainties of fit function `function`, given measured data\n",
        "\n",
        "  (`XX`, `YY` $\\pm$ `UNCERT`)"
      ],
      "metadata": {
        "id": "7sK0dJs4uWVt"
      }
    },
    {
      "cell_type": "code",
      "source": [
        "import numpy as np\n",
        "import matplotlib.pyplot as plt\n",
        "from scipy.optimize import curve_fit\n",
        "\n",
        "#@title\n",
        "def chisquare(data,model,uncertainty):\n",
        "    '''\n",
        "    Calculates value of chi squared for model given data and unvertainty\n",
        "    \n",
        "    Parameters\n",
        "    ----------\n",
        "    data : numpy array\n",
        "            1D vector of data values\n",
        "                \n",
        "    model : numpy array\n",
        "            1D vector of values predicted by model\n",
        "    \n",
        "    uncertainty : numpy array\n",
        "            1D vector of uncertainty corresponding to data\n",
        "    \n",
        "    Returns\n",
        "    -------\n",
        "    x2 : float\n",
        "       Returns value of chi squared for this model given data and uncertainty\n",
        "    '''\n",
        "\n",
        "    x2 = np.sum((data-model)**2/uncertainty**2)\n",
        "    \n",
        "    return x2\n",
        "\n",
        "\n",
        "def mycurvefit(func,XX,YY,UNCERT,xlabel=None,ylabel=None,p0=None):\n",
        "    '''\n",
        "    Fits data (XX, YY, UNCERT) to function using scipy.curvefit, and then plots data and best fit\n",
        "        Parameters\n",
        "    ----------\n",
        "    func : user-defined function\n",
        "            Model to be used to fit data\n",
        "                \n",
        "    XX : numpy array\n",
        "            1D vector of data's independent variable\n",
        "    \n",
        "    YY : numpy array \n",
        "            1D vector of data's dependent variable\n",
        "            \n",
        "    UNCERT : numpy array\n",
        "            1D vector of uncertainty in YY\n",
        "            \n",
        "    xlabel: string\n",
        "            label for plot's x-axis\n",
        "            \n",
        "    ylabel : string\n",
        "            label for plot's y-axis\n",
        "    \n",
        "    Returns\n",
        "    -------\n",
        "    fitparams : numpy array\n",
        "           1D array of best fit values of parameters\n",
        "       \n",
        "    fiterrs : numpy array\n",
        "            1D array of errors on best fit parameters (taken from sqrt of diag of covariance matrix)\n",
        "    \n",
        "    \n",
        "    '''\n",
        "    \n",
        "    ##################################################\n",
        "    #                Do the curve fit                #\n",
        "    ##################################################     \n",
        "    \n",
        "    \n",
        "    # To get curve_fit to use UNCERT, set absolute_sigma = True.  Otherwise sigma = 1\n",
        "    fitparams,pcov = curve_fit(func,XX,YY,sigma = UNCERT,absolute_sigma=True, p0=p0)\n",
        "\n",
        "    # Find error in each parameter.  Assumes covariance matrix is roughly diagonal.\n",
        "    fiterrs = np.sqrt(np.diag(pcov))\n",
        "\n",
        "    # print out the parameters and errors on them \n",
        "    print('Best Fit Parameters:\\n')\n",
        "    i = 0\n",
        "    for A,sigA in zip(fitparams, fiterrs):\n",
        "        i = i +1\n",
        "        mystring = '\\t P' + str(i) + ' = '\n",
        "        print(mystring,round(A,5),'+/-',round(sigA,5))\n",
        "        \n",
        "    \n",
        "    \n",
        "    ##################################################\n",
        "    #                Begin Plotting                  #\n",
        "    ##################################################\n",
        "    \n",
        "    fig,ax = plt.subplots()\n",
        "    # plot the raw data\n",
        "    ax.errorbar(XX,YY,UNCERT,fmt='.',label='data')\n",
        "    \n",
        "    \n",
        "    # plot the fit\n",
        "    XX_shade = np.linspace(min(XX),max(XX),100)\n",
        "    ax.plot(XX_shade,func(XX_shade,*fitparams),label = 'best fit')\n",
        "    \n",
        "    if xlabel == None:\n",
        "      xlabel = ''\n",
        "    if ylabel == None:\n",
        "      ylabel = ''\n",
        "\n",
        "    # make the plot nice\n",
        "    ax.set_xlabel(xlabel)\n",
        "    ax.set_ylabel(ylabel)\n",
        "    plt.legend()\n",
        "    \n",
        "    \n",
        "    \n",
        "    ##################################################\n",
        "    #    Calculate and display the fit metrics       #\n",
        "    ##################################################\n",
        "    \n",
        "    # calculate the number of degrees of freedom\n",
        "    shape = np.shape(XX)\n",
        "    dof = shape[0] - len(fitparams)\n",
        "    \n",
        "    print('\\n Fit Metrics:\\n')\n",
        "    print('\\t Degrees of freedom (N-d): ', dof)\n",
        "    \n",
        "    X2 = chisquare(YY,func(XX,*fitparams),UNCERT)\n",
        "    #X2string = '\\t Chi Squared = ' + str(round(X2,1))\n",
        "    X2redstring = '\\t Reduced Chi Squared = '+ str(round(X2/dof,3))\n",
        "    #print(X2string)\n",
        "    print(X2redstring)\n",
        "\n",
        "    \n",
        "    return fitparams,fiterrs"
      ],
      "metadata": {
        "id": "RW_1YjMvgHe9"
      },
      "execution_count": null,
      "outputs": []
    },
    {
      "cell_type": "markdown",
      "source": [
        "\n",
        "## The Logistics\n",
        "\n",
        "Edit this cell and add the names of your group memembers here:\n",
        "\n",
        ">> Lab member 1:\n",
        "\n",
        ">> Lab member 2:\n",
        "\n",
        ">> Lab member 3:\n",
        "\n",
        "* As you go through this document, be sure to answer any questions posed in a text cell where indicated. Your text should be preceeded by the double `>>` as shown above.\n",
        "* At the end of the lab, you'll download this notebook and then upload it to Canvas/Gradescope *before you leave*. "
      ],
      "metadata": {
        "id": "iml07BjKTrXj"
      }
    },
    {
      "cell_type": "markdown",
      "metadata": {
        "id": "QIcRoQAasql7"
      },
      "source": [
        "# Review: The Reduced $\\chi^2$ Statistic\n",
        "\n",
        "How do you know if a model is a good fit to a set of data? Looking at the plot is a good first step, but we want to be more quantitative than this. (You can't publish a paper and just put \"the plot looked nice\" as justification for your findings!) We need a metric which can tell us how good our fit is.\n",
        "\n",
        "One metric we can use is known as the $\\chi_{red}^2$ (\"reduced chi-squared\") statistic. Given a model and measured data, $\\chi_{red}^2$ can be calculated using the following equation:\n",
        "\n",
        "$$\\chi_{red}^2 = \\frac{1}{N-d}\\sum_i^N \\frac{(y_{data,i}-y_{model,i})^2}{\\delta y_i^2} \\$$\n",
        "\n",
        "where you have taken $N$ data points $y_{data,i}\\pm \\delta y_i$, and you are comparing those points to a set of modeled values $y_{model,i}$. The number of parameters you are fitting is given by $d$. For example, a linear model $y=mx+b$ has two parameters, $m$ and $b$; for this model, $d=2$. \n",
        "\n",
        "The reduced $\\chi^2$ statistic can be thought of as the average (squared) number of error bars separating your data and model. **For a good fit, we expect the reduced $\\chi^2$ value to be close to 1 (each data point is on average about one error bar away from the model).**"
      ]
    },
    {
      "cell_type": "markdown",
      "source": [
        "# Activity 1a: Devise your model\n",
        "\n",
        "In this lab, you are given a spring with unknown spring constant $k$. However, you can determine $k$ by hanging weights with known mass $m$ from the bottom of the spring, and then measuring the spring's stretched length $y$. A schemeatic of this set up is shown below.\n",
        "\n",
        "Using your physics knowledge, come up with a model for $y$ in terms of $m$ (your measured masses), as well as $k$ and/or any other relevant constants or parameters. Record your model in the cell below:"
      ],
      "metadata": {
        "id": "wlC2v3eq5wtK"
      }
    },
    {
      "cell_type": "markdown",
      "source": [
        "![Mass on Spring.png](data:image/png;base64,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)"
      ],
      "metadata": {
        "id": "6Uc-xEaW59Wv"
      }
    },
    {
      "cell_type": "markdown",
      "source": [
        ">>Record your model here:\n",
        "\n",
        "$$y(m) = ??? $$"
      ],
      "metadata": {
        "id": "xzvm8ZYw7Rgs"
      }
    },
    {
      "cell_type": "markdown",
      "source": [
        "Now, in the below cell, write a *Python function* which calculates your model given values of $m$, and the other relevant fit parameters. We haven't done too much with Python function before, but if you write out your calculation of `y` in the indented block, the function should work.\n",
        "\n",
        "You may also rename `fit_parameter_1`, `fit_parameter_2`, etc. to the names of any relevant fit parameters.\n",
        "\n",
        "**Please call over a TF or talk to another group if you're having trouble with this!**"
      ],
      "metadata": {
        "id": "Xd0owxGB7Wk1"
      }
    },
    {
      "cell_type": "code",
      "source": [
        "def my_fit_model(m, fit_parameter_1, fit_parameter_2, ...): #you may add/remove variables, and change their names!\n",
        "\n",
        "  y = ... #your equation here \n",
        "\n",
        "  return y"
      ],
      "metadata": {
        "id": "klRbecrj6BE-"
      },
      "execution_count": null,
      "outputs": []
    },
    {
      "cell_type": "markdown",
      "source": [
        "# Activity 1b: Take your data\n",
        "\n",
        "Now, take some data! Choose a spring  and some masses from the front of the room. If you measure $y$ as a function of $m$, you can deduce the value of $k$. \n",
        "\n",
        "Explain your procedure below - you can always update your procedure later but it's nice to have an idea of where to start:\n",
        "\n",
        ">> Your answer here\n",
        "\n",
        "Record your measurements in the below cell. Also note that you'll want to calculate uncertainties for your $y$ values. For each mass value, have each member of your group measure $y$. Record each measurement of $y$ for a given mass in format shown below:"
      ],
      "metadata": {
        "id": "wp4DR1bx9OtN"
      }
    },
    {
      "cell_type": "code",
      "source": [
        "m = np.array([111,222, ...]) # g #your mass values here \n",
        "\n",
        "y = np.array([[333,323, ...], #y measurements for first mass value - here for m = 111 g\n",
        "              [444, 434, ...], #you measurements for second mass value - here for m = 222 g\n",
        "              [...], #you measurements for third mass value, and so on\n",
        "                  ])"
      ],
      "metadata": {
        "id": "GKclpNqw-s5E"
      },
      "execution_count": null,
      "outputs": []
    },
    {
      "cell_type": "markdown",
      "source": [
        "The below code will help you compute uncertainties on $y$. You can calculate the mean and standard deviation of each *row or column* in an array by specifying an `axis`, as shown below.\n",
        "\n",
        "Once you've computed the uncertainties on your data, make a plot of your data with uncertainties using `plt.errorbar()`."
      ],
      "metadata": {
        "id": "eKWzD7hu-pBr"
      }
    },
    {
      "cell_type": "code",
      "source": [
        "y_mean = np.mean(y, axis = 1)\n",
        "y_std = np.std(y, axis = 1)\n",
        "\n",
        "y_err = ... #calculate the uncertainty on y_mean here\n",
        "\n",
        "plt.errorbar(m, y_mean, y_err, fmt = '.', capsize = 8)"
      ],
      "metadata": {
        "id": "lzNZocM5_oXq"
      },
      "execution_count": null,
      "outputs": []
    },
    {
      "cell_type": "markdown",
      "source": [
        "# Activity 2: Fit your data\n",
        "\n",
        "Now, we can fit our measurements to our model. Python has a number of functions which will compute the fit parameters which minimize $\\chi^2_{red}$ for a given model. We've written a nice function, `mycurvefit()`, which will do this calculation for you. You just need to specify a Python function which represents your model, and your data.\n",
        "\n",
        "Replace `fit_function`, `xdata`, `ydata`, and `errors` with the appropriate values, and then run the below cell to fit your data.\n",
        "\n",
        "Notice! This function saves the fit parameters in the variable `fitparam` and their uncertainties in `fiterr`."
      ],
      "metadata": {
        "id": "g45yTZ7FATZk"
      }
    },
    {
      "cell_type": "code",
      "source": [
        "fitparam, fiterr = mycurvefit(fit_function, xdata, ydata, errors) #replace inputs with your fit function, data, and uncertainties"
      ],
      "metadata": {
        "id": "fuQfQrjMFEDS"
      },
      "execution_count": null,
      "outputs": []
    },
    {
      "cell_type": "markdown",
      "source": [
        "Make a plot of your data, along with the best fit line, below."
      ],
      "metadata": {
        "id": "BQ8IcQ40FEbZ"
      }
    },
    {
      "cell_type": "code",
      "source": [
        "#Make your plot here - you can copy and paste any code you need from the above cells"
      ],
      "metadata": {
        "id": "VJgvFh7rOPBR"
      },
      "execution_count": null,
      "outputs": []
    },
    {
      "cell_type": "markdown",
      "source": [
        "#Activity 3: Interpret your fit\n",
        "\n",
        "Is your model consistent with your data? Explain why or why not.\n",
        "\n",
        ">> Your answer here\n",
        "\n",
        "If your model is not consistent with your data, you may need to revise your model. Describe any model revision you made below, then re-run your code with the updated model. Is the updated model consistent with your data? Why or why not?\n",
        "\n",
        ">> Your answer here\n",
        "\n",
        "Based on your best-fit parameters, what is the spring constant $k$ of your spring? What are its uncertainties? Be sure to include correct units! (You can do any necessary calculations in the cell below - feel free to add additional cells as needed!)\n",
        "\n",
        ">> Your answer here\n",
        "\n",
        "What are the values of the other parameters in your model (if any)? What, physically, do the represent? Do their values make sense? Explain why or why not.\n",
        "\n",
        ">> Your answer here"
      ],
      "metadata": {
        "id": "8gpedpdNCEEe"
      }
    },
    {
      "cell_type": "code",
      "source": [
        "#Add any code you need here!"
      ],
      "metadata": {
        "id": "Cbk3o3fGE6t0"
      },
      "execution_count": null,
      "outputs": []
    },
    {
      "cell_type": "markdown",
      "source": [
        "#Activity 4: The mystery mass!\n",
        "\n",
        "Now that you have fit your data, you can use your apparatus to measure an object with an unknown mass! This can be anything you and your group want to find the mass of - the TFs also have Mystery Masses for you to measure.\n",
        "\n",
        "Predict the mass of your object, and record your prediction. Then, use your spring setup and the values from your fit to determine the value of the object's mass (**with uncertainty**, hint: you will need error propagation). Explain your procedure below - feel free to add any text or code cells needed to do your calculation!"
      ],
      "metadata": {
        "id": "RzCjCB1dCHvO"
      }
    },
    {
      "cell_type": "markdown",
      "source": [
        ">> Your Prediction here: \n",
        "\n",
        ">> Explain your procedure to measure the mass here:"
      ],
      "metadata": {
        "id": "WVeJUZoGDEWn"
      }
    },
    {
      "cell_type": "code",
      "source": [
        "#Add any code you use here!"
      ],
      "metadata": {
        "id": "AI-cFLymDKO7"
      },
      "execution_count": null,
      "outputs": []
    },
    {
      "cell_type": "markdown",
      "source": [
        "# Reflection\n",
        "\n",
        "1. Do you trust the calibration of your spring scale? Explain why or why not.\n",
        "\n",
        ">> Answer here\n",
        "\n",
        "2. What sets the precision of your spring scale?\n",
        "\n",
        ">Answer here!"
      ],
      "metadata": {
        "id": "1B0l216mPRLW"
      }
    },
    {
      "cell_type": "markdown",
      "source": [
        "Finally, please return any springs and masses used to the front of the room."
      ],
      "metadata": {
        "id": "5eR9YoWIKJcS"
      }
    },
    {
      "cell_type": "markdown",
      "source": [
        "# How to submit\n",
        "\n",
        "- Go to `File` $\\rightarrow$ `Download` $\\rightarrow$ `Download .ipynb` \n",
        "- Upload the file via the Canvas assignment (it will take you to Gradescope.)\n",
        "- IMPORTANT: Only upload ONE COPY, making sure to add all group members to the submission!\n",
        "-Please complete the Lab 1 Post-Lab Survey (on Canvas) before you leave lab!"
      ],
      "metadata": {
        "id": "VXf3rdgunyGx"
      }
    }
  ]
}